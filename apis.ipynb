{
 "cells": [
  {
   "cell_type": "code",
   "execution_count": null,
   "metadata": {
    "collapsed": true,
    "pycharm": {
     "name": "#%%\n"
    }
   },
   "outputs": [],
   "source": [
    "# -> malshare api keys\n",
    "#d5cb268eddfce4bce2eaf2ed2aee868032ce7d6dd6a645e7f175c76b94b29a\n",
    "#f25121c2270089cad3c12769e1b404b679252b0ed0fe0e48686c079f322a54de\n",
    "#df91336a3be56879597e8bb6e7b98953652889b2c0f17b7eb29012319ba1bd42\n"
   ]
  }
 ],
 "metadata": {
  "kernelspec": {
   "display_name": "Python 3",
   "language": "python",
   "name": "python3"
  },
  "language_info": {
   "codemirror_mode": {
    "name": "ipython",
    "version": 2
   },
   "file_extension": ".py",
   "mimetype": "text/x-python",
   "name": "python",
   "nbconvert_exporter": "python",
   "pygments_lexer": "ipython2",
   "version": "2.7.6"
  }
 },
 "nbformat": 4,
 "nbformat_minor": 0
}